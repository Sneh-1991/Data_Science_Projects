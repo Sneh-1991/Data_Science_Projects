{
 "cells": [
  {
   "cell_type": "code",
   "execution_count": 21,
   "metadata": {},
   "outputs": [],
   "source": [
    "import pandas as pd\n",
    "import os"
   ]
  },
  {
   "cell_type": "code",
   "execution_count": 22,
   "metadata": {},
   "outputs": [
    {
     "data": {
      "text/html": [
       "<div>\n",
       "<style scoped>\n",
       "    .dataframe tbody tr th:only-of-type {\n",
       "        vertical-align: middle;\n",
       "    }\n",
       "\n",
       "    .dataframe tbody tr th {\n",
       "        vertical-align: top;\n",
       "    }\n",
       "\n",
       "    .dataframe thead th {\n",
       "        text-align: right;\n",
       "    }\n",
       "</style>\n",
       "<table border=\"1\" class=\"dataframe\">\n",
       "  <thead>\n",
       "    <tr style=\"text-align: right;\">\n",
       "      <th></th>\n",
       "      <th>Avg. Area Income</th>\n",
       "      <th>Avg. Area House Age</th>\n",
       "      <th>Avg. Area Number of Rooms</th>\n",
       "      <th>Avg. Area Number of Bedrooms</th>\n",
       "      <th>Area Population</th>\n",
       "      <th>Price</th>\n",
       "      <th>Address</th>\n",
       "    </tr>\n",
       "  </thead>\n",
       "  <tbody>\n",
       "    <tr>\n",
       "      <th>0</th>\n",
       "      <td>79545.458574</td>\n",
       "      <td>5.682861</td>\n",
       "      <td>7.009188</td>\n",
       "      <td>4.09</td>\n",
       "      <td>23086.800503</td>\n",
       "      <td>1.059034e+06</td>\n",
       "      <td>208 Michael Ferry Apt. 674\\r\\nLaurabury, NE 37...</td>\n",
       "    </tr>\n",
       "    <tr>\n",
       "      <th>1</th>\n",
       "      <td>79248.642455</td>\n",
       "      <td>6.002900</td>\n",
       "      <td>6.730821</td>\n",
       "      <td>3.09</td>\n",
       "      <td>40173.072174</td>\n",
       "      <td>1.505891e+06</td>\n",
       "      <td>188 Johnson Views Suite 079\\r\\nLake Kathleen, ...</td>\n",
       "    </tr>\n",
       "    <tr>\n",
       "      <th>2</th>\n",
       "      <td>61287.067179</td>\n",
       "      <td>5.865890</td>\n",
       "      <td>8.512727</td>\n",
       "      <td>5.13</td>\n",
       "      <td>36882.159400</td>\n",
       "      <td>1.058988e+06</td>\n",
       "      <td>9127 Elizabeth Stravenue\\r\\nDanieltown, WI 064...</td>\n",
       "    </tr>\n",
       "    <tr>\n",
       "      <th>3</th>\n",
       "      <td>63345.240046</td>\n",
       "      <td>7.188236</td>\n",
       "      <td>5.586729</td>\n",
       "      <td>3.26</td>\n",
       "      <td>34310.242831</td>\n",
       "      <td>1.260617e+06</td>\n",
       "      <td>USS Barnett\\r\\nFPO AP 44820</td>\n",
       "    </tr>\n",
       "    <tr>\n",
       "      <th>4</th>\n",
       "      <td>59982.197226</td>\n",
       "      <td>5.040555</td>\n",
       "      <td>7.839388</td>\n",
       "      <td>4.23</td>\n",
       "      <td>26354.109472</td>\n",
       "      <td>6.309435e+05</td>\n",
       "      <td>USNS Raymond\\r\\nFPO AE 09386</td>\n",
       "    </tr>\n",
       "  </tbody>\n",
       "</table>\n",
       "</div>"
      ],
      "text/plain": [
       "   Avg. Area Income  Avg. Area House Age  Avg. Area Number of Rooms  \\\n",
       "0      79545.458574             5.682861                   7.009188   \n",
       "1      79248.642455             6.002900                   6.730821   \n",
       "2      61287.067179             5.865890                   8.512727   \n",
       "3      63345.240046             7.188236                   5.586729   \n",
       "4      59982.197226             5.040555                   7.839388   \n",
       "\n",
       "   Avg. Area Number of Bedrooms  Area Population         Price  \\\n",
       "0                          4.09     23086.800503  1.059034e+06   \n",
       "1                          3.09     40173.072174  1.505891e+06   \n",
       "2                          5.13     36882.159400  1.058988e+06   \n",
       "3                          3.26     34310.242831  1.260617e+06   \n",
       "4                          4.23     26354.109472  6.309435e+05   \n",
       "\n",
       "                                             Address  \n",
       "0  208 Michael Ferry Apt. 674\\r\\nLaurabury, NE 37...  \n",
       "1  188 Johnson Views Suite 079\\r\\nLake Kathleen, ...  \n",
       "2  9127 Elizabeth Stravenue\\r\\nDanieltown, WI 064...  \n",
       "3                        USS Barnett\\r\\nFPO AP 44820  \n",
       "4                       USNS Raymond\\r\\nFPO AE 09386  "
      ]
     },
     "execution_count": 22,
     "metadata": {},
     "output_type": "execute_result"
    }
   ],
   "source": [
    "df = pd.read_csv(r\"D:\\Jupyter\\USA_Housing.csv\")\n",
    "df.head()"
   ]
  },
  {
   "cell_type": "code",
   "execution_count": 23,
   "metadata": {},
   "outputs": [
    {
     "data": {
      "text/plain": [
       "Index(['Avg. Area Income', 'Avg. Area House Age', 'Avg. Area Number of Rooms',\n",
       "       'Avg. Area Number of Bedrooms', 'Area Population', 'Price', 'Address'],\n",
       "      dtype='object')"
      ]
     },
     "execution_count": 23,
     "metadata": {},
     "output_type": "execute_result"
    }
   ],
   "source": [
    "df.columns"
   ]
  },
  {
   "cell_type": "code",
   "execution_count": 26,
   "metadata": {},
   "outputs": [
    {
     "data": {
      "text/plain": [
       "Index(['208 Michael Ferry Apt. 674\\r\\nLaurabury, NE 37010-5101',\n",
       "       '188 Johnson Views Suite 079\\r\\nLake Kathleen, CA 48958',\n",
       "       '9127 Elizabeth Stravenue\\r\\nDanieltown, WI 06482-3489',\n",
       "       'USS Barnett\\r\\nFPO AP 44820', 'USNS Raymond\\r\\nFPO AE 09386',\n",
       "       '06039 Jennifer Islands Apt. 443\\r\\nTracyport, KS 16077',\n",
       "       '4759 Daniel Shoals Suite 442\\r\\nNguyenburgh, CO 20247',\n",
       "       '972 Joyce Viaduct\\r\\nLake William, TN 17778-6483',\n",
       "       'USS Gilbert\\r\\nFPO AA 20957', 'Unit 9446 Box 0958\\r\\nDPO AE 97025',\n",
       "       ...\n",
       "       '86727 Kelly Plaza\\r\\nLake Veronica, IL 04474',\n",
       "       '2871 John Lodge\\r\\nAmychester, GU 61734-5597',\n",
       "       'Unit 2096 Box 9559\\r\\nDPO AE 80983-8797',\n",
       "       '5259 David Causeway Apt. 975\\r\\nSouth Alexstad, IL 42719-2498',\n",
       "       '5224 Lamb Passage\\r\\nNancystad, GA 16579',\n",
       "       'USNS Williams\\r\\nFPO AP 30153-7653',\n",
       "       'PSC 9258, Box 8489\\r\\nAPO AA 42991-3352',\n",
       "       '4215 Tracy Garden Suite 076\\r\\nJoshualand, VA 01707-9165',\n",
       "       'USS Wallace\\r\\nFPO AE 73316',\n",
       "       '37778 George Ridges Apt. 509\\r\\nEast Holly, NV 29290-3595'],\n",
       "      dtype='object', name='Address', length=5000)"
      ]
     },
     "execution_count": 26,
     "metadata": {},
     "output_type": "execute_result"
    }
   ],
   "source": [
    "df.index"
   ]
  },
  {
   "cell_type": "code",
   "execution_count": 37,
   "metadata": {},
   "outputs": [
    {
     "data": {
      "text/plain": [
       "(5000, 6)"
      ]
     },
     "execution_count": 37,
     "metadata": {},
     "output_type": "execute_result"
    }
   ],
   "source": [
    "df.shape"
   ]
  },
  {
   "cell_type": "code",
   "execution_count": 27,
   "metadata": {},
   "outputs": [
    {
     "data": {
      "text/html": [
       "<div>\n",
       "<style scoped>\n",
       "    .dataframe tbody tr th:only-of-type {\n",
       "        vertical-align: middle;\n",
       "    }\n",
       "\n",
       "    .dataframe tbody tr th {\n",
       "        vertical-align: top;\n",
       "    }\n",
       "\n",
       "    .dataframe thead th {\n",
       "        text-align: right;\n",
       "    }\n",
       "</style>\n",
       "<table border=\"1\" class=\"dataframe\">\n",
       "  <thead>\n",
       "    <tr style=\"text-align: right;\">\n",
       "      <th></th>\n",
       "      <th>Address</th>\n",
       "      <th>Avg. Area Income</th>\n",
       "      <th>Avg. Area House Age</th>\n",
       "      <th>Avg. Area Number of Rooms</th>\n",
       "      <th>Avg. Area Number of Bedrooms</th>\n",
       "      <th>Area Population</th>\n",
       "      <th>Price</th>\n",
       "    </tr>\n",
       "  </thead>\n",
       "  <tbody>\n",
       "    <tr>\n",
       "      <th>0</th>\n",
       "      <td>208 Michael Ferry Apt. 674\\r\\nLaurabury, NE 37...</td>\n",
       "      <td>79545.458574</td>\n",
       "      <td>5.682861</td>\n",
       "      <td>7.009188</td>\n",
       "      <td>4.09</td>\n",
       "      <td>23086.800503</td>\n",
       "      <td>1.059034e+06</td>\n",
       "    </tr>\n",
       "    <tr>\n",
       "      <th>1</th>\n",
       "      <td>188 Johnson Views Suite 079\\r\\nLake Kathleen, ...</td>\n",
       "      <td>79248.642455</td>\n",
       "      <td>6.002900</td>\n",
       "      <td>6.730821</td>\n",
       "      <td>3.09</td>\n",
       "      <td>40173.072174</td>\n",
       "      <td>1.505891e+06</td>\n",
       "    </tr>\n",
       "    <tr>\n",
       "      <th>2</th>\n",
       "      <td>9127 Elizabeth Stravenue\\r\\nDanieltown, WI 064...</td>\n",
       "      <td>61287.067179</td>\n",
       "      <td>5.865890</td>\n",
       "      <td>8.512727</td>\n",
       "      <td>5.13</td>\n",
       "      <td>36882.159400</td>\n",
       "      <td>1.058988e+06</td>\n",
       "    </tr>\n",
       "    <tr>\n",
       "      <th>3</th>\n",
       "      <td>USS Barnett\\r\\nFPO AP 44820</td>\n",
       "      <td>63345.240046</td>\n",
       "      <td>7.188236</td>\n",
       "      <td>5.586729</td>\n",
       "      <td>3.26</td>\n",
       "      <td>34310.242831</td>\n",
       "      <td>1.260617e+06</td>\n",
       "    </tr>\n",
       "    <tr>\n",
       "      <th>4</th>\n",
       "      <td>USNS Raymond\\r\\nFPO AE 09386</td>\n",
       "      <td>59982.197226</td>\n",
       "      <td>5.040555</td>\n",
       "      <td>7.839388</td>\n",
       "      <td>4.23</td>\n",
       "      <td>26354.109472</td>\n",
       "      <td>6.309435e+05</td>\n",
       "    </tr>\n",
       "    <tr>\n",
       "      <th>...</th>\n",
       "      <td>...</td>\n",
       "      <td>...</td>\n",
       "      <td>...</td>\n",
       "      <td>...</td>\n",
       "      <td>...</td>\n",
       "      <td>...</td>\n",
       "      <td>...</td>\n",
       "    </tr>\n",
       "    <tr>\n",
       "      <th>4995</th>\n",
       "      <td>USNS Williams\\r\\nFPO AP 30153-7653</td>\n",
       "      <td>60567.944140</td>\n",
       "      <td>7.830362</td>\n",
       "      <td>6.137356</td>\n",
       "      <td>3.46</td>\n",
       "      <td>22837.361035</td>\n",
       "      <td>1.060194e+06</td>\n",
       "    </tr>\n",
       "    <tr>\n",
       "      <th>4996</th>\n",
       "      <td>PSC 9258, Box 8489\\r\\nAPO AA 42991-3352</td>\n",
       "      <td>78491.275435</td>\n",
       "      <td>6.999135</td>\n",
       "      <td>6.576763</td>\n",
       "      <td>4.02</td>\n",
       "      <td>25616.115489</td>\n",
       "      <td>1.482618e+06</td>\n",
       "    </tr>\n",
       "    <tr>\n",
       "      <th>4997</th>\n",
       "      <td>4215 Tracy Garden Suite 076\\r\\nJoshualand, VA ...</td>\n",
       "      <td>63390.686886</td>\n",
       "      <td>7.250591</td>\n",
       "      <td>4.805081</td>\n",
       "      <td>2.13</td>\n",
       "      <td>33266.145490</td>\n",
       "      <td>1.030730e+06</td>\n",
       "    </tr>\n",
       "    <tr>\n",
       "      <th>4998</th>\n",
       "      <td>USS Wallace\\r\\nFPO AE 73316</td>\n",
       "      <td>68001.331235</td>\n",
       "      <td>5.534388</td>\n",
       "      <td>7.130144</td>\n",
       "      <td>5.44</td>\n",
       "      <td>42625.620156</td>\n",
       "      <td>1.198657e+06</td>\n",
       "    </tr>\n",
       "    <tr>\n",
       "      <th>4999</th>\n",
       "      <td>37778 George Ridges Apt. 509\\r\\nEast Holly, NV...</td>\n",
       "      <td>65510.581804</td>\n",
       "      <td>5.992305</td>\n",
       "      <td>6.792336</td>\n",
       "      <td>4.07</td>\n",
       "      <td>46501.283803</td>\n",
       "      <td>1.298950e+06</td>\n",
       "    </tr>\n",
       "  </tbody>\n",
       "</table>\n",
       "<p>5000 rows × 7 columns</p>\n",
       "</div>"
      ],
      "text/plain": [
       "                                                Address  Avg. Area Income  \\\n",
       "0     208 Michael Ferry Apt. 674\\r\\nLaurabury, NE 37...      79545.458574   \n",
       "1     188 Johnson Views Suite 079\\r\\nLake Kathleen, ...      79248.642455   \n",
       "2     9127 Elizabeth Stravenue\\r\\nDanieltown, WI 064...      61287.067179   \n",
       "3                           USS Barnett\\r\\nFPO AP 44820      63345.240046   \n",
       "4                          USNS Raymond\\r\\nFPO AE 09386      59982.197226   \n",
       "...                                                 ...               ...   \n",
       "4995                 USNS Williams\\r\\nFPO AP 30153-7653      60567.944140   \n",
       "4996            PSC 9258, Box 8489\\r\\nAPO AA 42991-3352      78491.275435   \n",
       "4997  4215 Tracy Garden Suite 076\\r\\nJoshualand, VA ...      63390.686886   \n",
       "4998                        USS Wallace\\r\\nFPO AE 73316      68001.331235   \n",
       "4999  37778 George Ridges Apt. 509\\r\\nEast Holly, NV...      65510.581804   \n",
       "\n",
       "      Avg. Area House Age  Avg. Area Number of Rooms  \\\n",
       "0                5.682861                   7.009188   \n",
       "1                6.002900                   6.730821   \n",
       "2                5.865890                   8.512727   \n",
       "3                7.188236                   5.586729   \n",
       "4                5.040555                   7.839388   \n",
       "...                   ...                        ...   \n",
       "4995             7.830362                   6.137356   \n",
       "4996             6.999135                   6.576763   \n",
       "4997             7.250591                   4.805081   \n",
       "4998             5.534388                   7.130144   \n",
       "4999             5.992305                   6.792336   \n",
       "\n",
       "      Avg. Area Number of Bedrooms  Area Population         Price  \n",
       "0                             4.09     23086.800503  1.059034e+06  \n",
       "1                             3.09     40173.072174  1.505891e+06  \n",
       "2                             5.13     36882.159400  1.058988e+06  \n",
       "3                             3.26     34310.242831  1.260617e+06  \n",
       "4                             4.23     26354.109472  6.309435e+05  \n",
       "...                            ...              ...           ...  \n",
       "4995                          3.46     22837.361035  1.060194e+06  \n",
       "4996                          4.02     25616.115489  1.482618e+06  \n",
       "4997                          2.13     33266.145490  1.030730e+06  \n",
       "4998                          5.44     42625.620156  1.198657e+06  \n",
       "4999                          4.07     46501.283803  1.298950e+06  \n",
       "\n",
       "[5000 rows x 7 columns]"
      ]
     },
     "execution_count": 27,
     "metadata": {},
     "output_type": "execute_result"
    }
   ],
   "source": [
    "df.reset_index(inplace=True)\n",
    "df"
   ]
  },
  {
   "cell_type": "code",
   "execution_count": 28,
   "metadata": {},
   "outputs": [
    {
     "data": {
      "text/html": [
       "<div>\n",
       "<style scoped>\n",
       "    .dataframe tbody tr th:only-of-type {\n",
       "        vertical-align: middle;\n",
       "    }\n",
       "\n",
       "    .dataframe tbody tr th {\n",
       "        vertical-align: top;\n",
       "    }\n",
       "\n",
       "    .dataframe thead th {\n",
       "        text-align: right;\n",
       "    }\n",
       "</style>\n",
       "<table border=\"1\" class=\"dataframe\">\n",
       "  <thead>\n",
       "    <tr style=\"text-align: right;\">\n",
       "      <th></th>\n",
       "      <th>Address</th>\n",
       "      <th>Avg. Area Income</th>\n",
       "      <th>Avg. Area House Age</th>\n",
       "    </tr>\n",
       "  </thead>\n",
       "  <tbody>\n",
       "    <tr>\n",
       "      <th>0</th>\n",
       "      <td>208 Michael Ferry Apt. 674\\r\\nLaurabury, NE 37...</td>\n",
       "      <td>79545.458574</td>\n",
       "      <td>5.682861</td>\n",
       "    </tr>\n",
       "    <tr>\n",
       "      <th>1</th>\n",
       "      <td>188 Johnson Views Suite 079\\r\\nLake Kathleen, ...</td>\n",
       "      <td>79248.642455</td>\n",
       "      <td>6.002900</td>\n",
       "    </tr>\n",
       "    <tr>\n",
       "      <th>2</th>\n",
       "      <td>9127 Elizabeth Stravenue\\r\\nDanieltown, WI 064...</td>\n",
       "      <td>61287.067179</td>\n",
       "      <td>5.865890</td>\n",
       "    </tr>\n",
       "    <tr>\n",
       "      <th>3</th>\n",
       "      <td>USS Barnett\\r\\nFPO AP 44820</td>\n",
       "      <td>63345.240046</td>\n",
       "      <td>7.188236</td>\n",
       "    </tr>\n",
       "  </tbody>\n",
       "</table>\n",
       "</div>"
      ],
      "text/plain": [
       "                                             Address  Avg. Area Income  \\\n",
       "0  208 Michael Ferry Apt. 674\\r\\nLaurabury, NE 37...      79545.458574   \n",
       "1  188 Johnson Views Suite 079\\r\\nLake Kathleen, ...      79248.642455   \n",
       "2  9127 Elizabeth Stravenue\\r\\nDanieltown, WI 064...      61287.067179   \n",
       "3                        USS Barnett\\r\\nFPO AP 44820      63345.240046   \n",
       "\n",
       "   Avg. Area House Age  \n",
       "0             5.682861  \n",
       "1             6.002900  \n",
       "2             5.865890  \n",
       "3             7.188236  "
      ]
     },
     "execution_count": 28,
     "metadata": {},
     "output_type": "execute_result"
    }
   ],
   "source": [
    "df.iloc[0:4, 0:3]"
   ]
  },
  {
   "cell_type": "code",
   "execution_count": 29,
   "metadata": {},
   "outputs": [
    {
     "data": {
      "text/html": [
       "<div>\n",
       "<style scoped>\n",
       "    .dataframe tbody tr th:only-of-type {\n",
       "        vertical-align: middle;\n",
       "    }\n",
       "\n",
       "    .dataframe tbody tr th {\n",
       "        vertical-align: top;\n",
       "    }\n",
       "\n",
       "    .dataframe thead th {\n",
       "        text-align: right;\n",
       "    }\n",
       "</style>\n",
       "<table border=\"1\" class=\"dataframe\">\n",
       "  <thead>\n",
       "    <tr style=\"text-align: right;\">\n",
       "      <th></th>\n",
       "      <th>Avg. Area Income</th>\n",
       "      <th>Avg. Area House Age</th>\n",
       "    </tr>\n",
       "  </thead>\n",
       "  <tbody>\n",
       "    <tr>\n",
       "      <th>0</th>\n",
       "      <td>79545.458574</td>\n",
       "      <td>5.682861</td>\n",
       "    </tr>\n",
       "    <tr>\n",
       "      <th>1</th>\n",
       "      <td>79248.642455</td>\n",
       "      <td>6.002900</td>\n",
       "    </tr>\n",
       "    <tr>\n",
       "      <th>2</th>\n",
       "      <td>61287.067179</td>\n",
       "      <td>5.865890</td>\n",
       "    </tr>\n",
       "    <tr>\n",
       "      <th>3</th>\n",
       "      <td>63345.240046</td>\n",
       "      <td>7.188236</td>\n",
       "    </tr>\n",
       "    <tr>\n",
       "      <th>4</th>\n",
       "      <td>59982.197226</td>\n",
       "      <td>5.040555</td>\n",
       "    </tr>\n",
       "  </tbody>\n",
       "</table>\n",
       "</div>"
      ],
      "text/plain": [
       "   Avg. Area Income  Avg. Area House Age\n",
       "0      79545.458574             5.682861\n",
       "1      79248.642455             6.002900\n",
       "2      61287.067179             5.865890\n",
       "3      63345.240046             7.188236\n",
       "4      59982.197226             5.040555"
      ]
     },
     "execution_count": 29,
     "metadata": {},
     "output_type": "execute_result"
    }
   ],
   "source": [
    "df.loc[0:4, ['Avg. Area Income', 'Avg. Area House Age']]"
   ]
  },
  {
   "cell_type": "code",
   "execution_count": 32,
   "metadata": {},
   "outputs": [
    {
     "data": {
      "text/html": [
       "<div>\n",
       "<style scoped>\n",
       "    .dataframe tbody tr th:only-of-type {\n",
       "        vertical-align: middle;\n",
       "    }\n",
       "\n",
       "    .dataframe tbody tr th {\n",
       "        vertical-align: top;\n",
       "    }\n",
       "\n",
       "    .dataframe thead th {\n",
       "        text-align: right;\n",
       "    }\n",
       "</style>\n",
       "<table border=\"1\" class=\"dataframe\">\n",
       "  <thead>\n",
       "    <tr style=\"text-align: right;\">\n",
       "      <th></th>\n",
       "      <th>Address</th>\n",
       "      <th>Avg. Area Income</th>\n",
       "      <th>Avg. Area House Age</th>\n",
       "      <th>Avg. Area Number of Rooms</th>\n",
       "      <th>Avg. Area Number of Bedrooms</th>\n",
       "      <th>Area Population</th>\n",
       "    </tr>\n",
       "  </thead>\n",
       "  <tbody>\n",
       "    <tr>\n",
       "      <th>0</th>\n",
       "      <td>208 Michael Ferry Apt. 674\\r\\nLaurabury, NE 37...</td>\n",
       "      <td>79545.458574</td>\n",
       "      <td>5.682861</td>\n",
       "      <td>7.009188</td>\n",
       "      <td>4.09</td>\n",
       "      <td>23086.800503</td>\n",
       "    </tr>\n",
       "    <tr>\n",
       "      <th>1</th>\n",
       "      <td>188 Johnson Views Suite 079\\r\\nLake Kathleen, ...</td>\n",
       "      <td>79248.642455</td>\n",
       "      <td>6.002900</td>\n",
       "      <td>6.730821</td>\n",
       "      <td>3.09</td>\n",
       "      <td>40173.072174</td>\n",
       "    </tr>\n",
       "    <tr>\n",
       "      <th>2</th>\n",
       "      <td>9127 Elizabeth Stravenue\\r\\nDanieltown, WI 064...</td>\n",
       "      <td>61287.067179</td>\n",
       "      <td>5.865890</td>\n",
       "      <td>8.512727</td>\n",
       "      <td>5.13</td>\n",
       "      <td>36882.159400</td>\n",
       "    </tr>\n",
       "    <tr>\n",
       "      <th>3</th>\n",
       "      <td>USS Barnett\\r\\nFPO AP 44820</td>\n",
       "      <td>63345.240046</td>\n",
       "      <td>7.188236</td>\n",
       "      <td>5.586729</td>\n",
       "      <td>3.26</td>\n",
       "      <td>34310.242831</td>\n",
       "    </tr>\n",
       "    <tr>\n",
       "      <th>4</th>\n",
       "      <td>USNS Raymond\\r\\nFPO AE 09386</td>\n",
       "      <td>59982.197226</td>\n",
       "      <td>5.040555</td>\n",
       "      <td>7.839388</td>\n",
       "      <td>4.23</td>\n",
       "      <td>26354.109472</td>\n",
       "    </tr>\n",
       "  </tbody>\n",
       "</table>\n",
       "</div>"
      ],
      "text/plain": [
       "                                             Address  Avg. Area Income  \\\n",
       "0  208 Michael Ferry Apt. 674\\r\\nLaurabury, NE 37...      79545.458574   \n",
       "1  188 Johnson Views Suite 079\\r\\nLake Kathleen, ...      79248.642455   \n",
       "2  9127 Elizabeth Stravenue\\r\\nDanieltown, WI 064...      61287.067179   \n",
       "3                        USS Barnett\\r\\nFPO AP 44820      63345.240046   \n",
       "4                       USNS Raymond\\r\\nFPO AE 09386      59982.197226   \n",
       "\n",
       "   Avg. Area House Age  Avg. Area Number of Rooms  \\\n",
       "0             5.682861                   7.009188   \n",
       "1             6.002900                   6.730821   \n",
       "2             5.865890                   8.512727   \n",
       "3             7.188236                   5.586729   \n",
       "4             5.040555                   7.839388   \n",
       "\n",
       "   Avg. Area Number of Bedrooms  Area Population  \n",
       "0                          4.09     23086.800503  \n",
       "1                          3.09     40173.072174  \n",
       "2                          5.13     36882.159400  \n",
       "3                          3.26     34310.242831  \n",
       "4                          4.23     26354.109472  "
      ]
     },
     "execution_count": 32,
     "metadata": {},
     "output_type": "execute_result"
    }
   ],
   "source": [
    "X = df.drop('Price', axis=1)\n",
    "X.head()"
   ]
  },
  {
   "cell_type": "code",
   "execution_count": 35,
   "metadata": {},
   "outputs": [
    {
     "data": {
      "text/plain": [
       "(5000, 6)"
      ]
     },
     "execution_count": 35,
     "metadata": {},
     "output_type": "execute_result"
    }
   ],
   "source": [
    "X.shape"
   ]
  },
  {
   "cell_type": "code",
   "execution_count": 38,
   "metadata": {},
   "outputs": [
    {
     "data": {
      "text/plain": [
       "Address\n",
       "208 Michael Ferry Apt. 674\\r\\nLaurabury, NE 37010-5101    1.059034e+06\n",
       "188 Johnson Views Suite 079\\r\\nLake Kathleen, CA 48958    1.505891e+06\n",
       "9127 Elizabeth Stravenue\\r\\nDanieltown, WI 06482-3489     1.058988e+06\n",
       "USS Barnett\\r\\nFPO AP 44820                               1.260617e+06\n",
       "USNS Raymond\\r\\nFPO AE 09386                              6.309435e+05\n",
       "06039 Jennifer Islands Apt. 443\\r\\nTracyport, KS 16077    1.068138e+06\n",
       "4759 Daniel Shoals Suite 442\\r\\nNguyenburgh, CO 20247     1.502056e+06\n",
       "972 Joyce Viaduct\\r\\nLake William, TN 17778-6483          1.573937e+06\n",
       "USS Gilbert\\r\\nFPO AA 20957                               7.988695e+05\n",
       "Unit 9446 Box 0958\\r\\nDPO AE 97025                        1.545155e+06\n",
       "Name: Price, dtype: float64"
      ]
     },
     "execution_count": 38,
     "metadata": {},
     "output_type": "execute_result"
    }
   ],
   "source": [
    "y = df['Price']\n",
    "y.head(10)"
   ]
  },
  {
   "cell_type": "code",
   "execution_count": 39,
   "metadata": {},
   "outputs": [
    {
     "data": {
      "text/plain": [
       "(5000,)"
      ]
     },
     "execution_count": 39,
     "metadata": {},
     "output_type": "execute_result"
    }
   ],
   "source": [
    "y.shape"
   ]
  }
 ],
 "metadata": {
  "kernelspec": {
   "display_name": "Python 3",
   "language": "python",
   "name": "python3"
  },
  "language_info": {
   "codemirror_mode": {
    "name": "ipython",
    "version": 3
   },
   "file_extension": ".py",
   "mimetype": "text/x-python",
   "name": "python",
   "nbconvert_exporter": "python",
   "pygments_lexer": "ipython3",
   "version": "3.8.1"
  }
 },
 "nbformat": 4,
 "nbformat_minor": 4
}
